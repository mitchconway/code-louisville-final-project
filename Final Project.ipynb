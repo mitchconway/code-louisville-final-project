{
 "cells": [
  {
   "cell_type": "code",
   "execution_count": 3,
   "metadata": {},
   "outputs": [],
   "source": [
    "import pandas as pd"
   ]
  },
  {
   "cell_type": "code",
   "execution_count": 13,
   "metadata": {},
   "outputs": [],
   "source": [
    "nutrition = pd.read_csv('nutrition.csv',\n",
    "                        usecols=nut_cols_to_use,\n",
    "                        index_col='name')"
   ]
  },
  {
   "attachments": {},
   "cell_type": "markdown",
   "metadata": {},
   "source": [
    "# FEATURE - Indexed by name of food, I intend to only use only McDonald's items"
   ]
  },
  {
   "cell_type": "code",
   "execution_count": 5,
   "metadata": {},
   "outputs": [],
   "source": [
    "nut_cols_to_use = ['name', 'calories', 'total_fat', 'protein', 'carbohydrate']"
   ]
  },
  {
   "attachments": {},
   "cell_type": "markdown",
   "metadata": {},
   "source": [
    "# FEATURE - Created a list"
   ]
  },
  {
   "cell_type": "code",
   "execution_count": 21,
   "metadata": {},
   "outputs": [],
   "source": [
    "nutrition = nutrition.query('name.str.contains(\"McDONALD\")', engine='python')"
   ]
  },
  {
   "cell_type": "code",
   "execution_count": 25,
   "metadata": {},
   "outputs": [
    {
     "name": "stdout",
     "output_type": "stream",
     "text": [
      "                                                        calories total_fat  protein carbohydrate\n",
      "name                                                                                            \n",
      "McDONALD'S, Side Salad                                        20      0.2g   1.03 g       4.30 g\n",
      "McDONALD'S, Hash Brown                                       271       16g   2.48 g      28.56 g\n",
      "McDONALD'S, Hamburger                                        264       10g  12.92 g      30.28 g\n",
      "McDONALD'S, BIG MAC                                          257       15g  11.82 g      20.08 g\n",
      "McDONALD'S, Hot Mustard Sauce                                190      7.3g   2.60 g      29.08 g\n",
      "McDONALD'S, Chicken McNUGGETS                                302       20g  15.79 g      15.09 g\n",
      "McDONALD'S, Hot Fudge Sundae                                 186      5.9g   4.14 g      30.05 g\n",
      "McDONALD'S, Hotcakes (plain)                                 228      5.8g   6.00 g      38.27 g\n",
      "McDONALD'S, Sausage McMUFFIN                                 333       21g  12.66 g      24.52 g\n",
      "McDONALD'S, Baked Apple Pie                                  323       16g   3.07 g      43.62 g\n",
      "McDONALD'S, Sausage Biscuit                                  376       25g   9.62 g      27.20 g\n",
      "McDONALD'S, QUARTER POUNDER                                  244       12g  14.10 g      22.17 g\n",
      "McDONALD'S, Sausage Burrito                                  277       16g  11.10 g      22.97 g\n",
      "McDONALD'S, Barbeque Sauce                                   165      1.2g   1.55 g      36.93 g\n",
      "McDONALD'S, BIG BREAKFAST                                    285       19g  10.16 g      17.50 g\n",
      "McDONALD'S, Egg McMUFFIN                                     228      9.7g  13.64 g      21.67 g\n",
      "McDONALD'S, french fries                                     323       15g   3.41 g      42.58 g\n",
      "McDONALD'S, FILET-O-FISH                                     282       15g  11.26 g      26.39 g\n",
      "McDONALD'S, Cheeseburger                                     263       12g  12.97 g      27.81 g\n",
      "McDONALD'S, Low Fat Caramel Sauce                            313      3.3g   1.89 g      71.53 g\n",
      "McDONALD'S, Peanuts (for Sundaes)                            640       53g  28.04 g      16.23 g\n",
      "McDONALD'S, Hotcakes and Sausage                             294       13g   7.81 g      37.55 g\n",
      "McDONALD'S, Double Cheeseburger                              282       16g  15.50 g      18.79 g\n",
      "McDONALD'S, Sweet 'N Sour Sauce                              170      1.1g   0.66 g      39.38 g\n",
      "McDONALD'S, Spicy Buffalo Sauce                              142       15g   0.54 g       1.81 g\n",
      "McDONALD'S, Hot Caramel Sundae                               188      4.9g   3.58 g      33.36 g\n",
      "McDONALD'S, Sausage McGRIDDLES                               312       18g   8.41 g      31.25 g\n",
      "McDONALD'S, McCHICKEN Sandwich                               273       13g  10.43 g      27.97 g\n",
      "McDONALD'S, Creamy Ranch Sauce                               468       52g   1.11 g       3.49 g\n",
      "McDONALD'S, Strawberry Sundae                                158        4g   3.19 g      28.09 g\n",
      "McDONALD'S, Grilled, RANCH SNACK WRAP                        222       10g  13.77 g      18.43 g\n",
      "McDONALD'S, NEWMAN'S OWN Ranch Dressing                      313       27g   2.62 g      16.75 g\n",
      "McDONALD'S, QUARTER POUNDER with Cheese                      258       14g  14.59 g      19.95 g\n",
      "McDONALD'S, McFLURRY with M&M'S CANDIES                      177      6.5g   4.02 g      26.82 g\n",
      "McDONALD'S, McFLURRY with OREO cookies                       165      5.7g   3.97 g      25.55 g\n",
      "McDONALD'S, Bacon Egg & Cheese Biscuit                       304       19g  13.45 g      22.26 g\n",
      "McDONALD'S, NEWMAN'S OWN Cobb Dressing                       196       14g   1.69 g      15.49 g\n",
      "McDONALD'S, Sausage McMUFFIN with Egg                        274       18g  12.59 g      17.28 g\n",
      "McDONALD'S, Tangy Honey Mustard Sauce                        167      5.8g   1.32 g      28.81 g\n",
      "McDONALD'S, Crispy, RANCH SNACK WRAP                         275       15g  11.48 g      23.22 g\n",
      "McDONALD'S, Sausage Biscuit with Egg                         311       22g  11.27 g      19.28 g\n",
      "McDONALD'S, Fruit 'n Yogurt Parfait                          105      1.3g   2.73 g      20.72 g\n",
      "McDONALD'S, Egg & Cheese McGRIDDLES, Sausage                 283       18g  10.77 g      22.04 g\n",
      "McDONALD'S, BIG MAC (without Big Mac Sauce)                  234       12g  12.79 g      21.01 g\n",
      "McDONALD'S, Southern Style Chicken Biscuit                   304       15g  11.93 g      30.56 g\n",
      "McDONALD'S, Egg & Cheese McGRIDDLES, Bacon                   272       13g  12.03 g      26.19 g\n",
      "McDONALD'S, Premium Grilled Chicken Club Sandwich            221      8.1g  17.19 g      19.87 g\n",
      "McDONALD'S Bacon Ranch Salad with Crispy Chicken             122      6.3g   8.82 g       6.08 g\n",
      "McDONALD'S, Premium Crispy Chicken Club Sandwich             250       12g  15.38 g      22.61 g\n",
      "McDONALD'S, FILET-O-FISH (without tartar sauce)              243      7.6g  12.47 g      31.08 g\n",
      "McDONALD'S, NEWMAN'S OWN Creamy Caesar Dressing              319       32g   3.56 g       6.85 g\n",
      "McDONALD'S, Vanilla Reduced Fat Ice Cream Cone               162      4.9g   4.24 g      26.36 g\n",
      "McDONALD'S, DOUBLE QUARTER POUNDER with Cheese               262       16g  16.96 g      14.43 g\n",
      "McDONALD'S, Bacon Ranch Salad without chicken                 61      3.6g   4.14 g       4.20 g\n",
      "McDONALD'S, Premium Crispy Chicken Ranch BLT Sandwich        244      9.6g  14.70 g      24.93 g\n",
      "McDONALD'S, Hotcakes (with 2 pats margarine & syrup)         272      8.1g   4.05 g      46.08 g\n",
      "McDONALD'S, Premium Grilled Chicken Classic Sandwich         183      4.3g  14.16 g      22.28 g\n",
      "McDONALD'S, McCHICKEN Sandwich (without mayonnaise)          240      8.5g  11.08 g      30.95 g\n",
      "McDONALD'S, Premium Crispy Chicken Classic Sandwich          228      8.7g  12.08 g      25.46 g\n",
      "McDONALD'S, Bacon Ranch Salad with Grilled Chicken            81      3.1g  10.28 g       3.64 g\n",
      "McDONALD'S, with syrup and margarine, Deluxe Breakfast       285       15g   7.56 g      29.48 g\n",
      "McDONALD'S, Premium Grilled Chicken Ranch BLT Sandwich       204      5.4g  16.70 g      21.91 g\n",
      "McDONALD'S, Fruit 'n Yogurt Parfait (without granola)         90      1.1g   2.47 g      17.67 g\n",
      "McDONALD'S, NEWMAN'S OWN Low Fat Balsamic Vinaigrette         86      5.9g   0.19 g      24.65 g\n"
     ]
    }
   ],
   "source": [
    "print(nutrition.to_string())"
   ]
  },
  {
   "attachments": {},
   "cell_type": "markdown",
   "metadata": {},
   "source": [
    "#select only rows with mcdonalds"
   ]
  },
  {
   "cell_type": "code",
   "execution_count": 35,
   "metadata": {},
   "outputs": [],
   "source": [
    "mooncsv = pd.read_csv(\"mooncsv.csv\")"
   ]
  },
  {
   "attachments": {},
   "cell_type": "markdown",
   "metadata": {},
   "source": [
    "#loaded moon csv"
   ]
  }
 ],
 "metadata": {
  "kernelspec": {
   "display_name": "Python 3",
   "language": "python",
   "name": "python3"
  },
  "language_info": {
   "codemirror_mode": {
    "name": "ipython",
    "version": 3
   },
   "file_extension": ".py",
   "mimetype": "text/x-python",
   "name": "python",
   "nbconvert_exporter": "python",
   "pygments_lexer": "ipython3",
   "version": "3.11.1"
  },
  "orig_nbformat": 4
 },
 "nbformat": 4,
 "nbformat_minor": 2
}
