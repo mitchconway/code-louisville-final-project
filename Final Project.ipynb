{
 "cells": [
  {
   "cell_type": "code",
   "execution_count": 3,
   "metadata": {},
   "outputs": [],
   "source": [
    "import pandas as pd"
   ]
  },
  {
   "cell_type": "code",
   "execution_count": 7,
   "metadata": {},
   "outputs": [],
   "source": [
    "nutrition = pd.read_csv('nutrition.csv', nrows=20,\n",
    "                        usecols=nut_cols_to_use,\n",
    "                        index_col='name')"
   ]
  },
  {
   "attachments": {},
   "cell_type": "markdown",
   "metadata": {},
   "source": [
    "# FEATURE - Indexed by name of food, I intend to only use the first 20 rows of each file"
   ]
  },
  {
   "cell_type": "code",
   "execution_count": 5,
   "metadata": {},
   "outputs": [],
   "source": [
    "nut_cols_to_use = ['name', 'calories', 'total_fat', 'protein', 'carbohydrate']"
   ]
  },
  {
   "attachments": {},
   "cell_type": "markdown",
   "metadata": {},
   "source": [
    "# FEATURE - Created a list"
   ]
  },
  {
   "cell_type": "code",
   "execution_count": null,
   "metadata": {},
   "outputs": [],
   "source": []
  },
  {
   "cell_type": "code",
   "execution_count": 9,
   "metadata": {},
   "outputs": [
    {
     "name": "stdout",
     "output_type": "stream",
     "text": [
      "Collecting xlrd\n",
      "  Downloading xlrd-2.0.1-py2.py3-none-any.whl (96 kB)\n",
      "     ---------------------------------------- 96.5/96.5 kB 1.4 MB/s eta 0:00:00\n",
      "Installing collected packages: xlrd\n",
      "Successfully installed xlrd-2.0.1\n",
      "Note: you may need to restart the kernel to use updated packages.\n"
     ]
    },
    {
     "name": "stderr",
     "output_type": "stream",
     "text": [
      "\n",
      "[notice] A new release of pip available: 22.3.1 -> 23.0.1\n",
      "[notice] To update, run: python.exe -m pip install --upgrade pip\n"
     ]
    }
   ],
   "source": [
    "pip install xlrd"
   ]
  },
  {
   "attachments": {},
   "cell_type": "markdown",
   "metadata": {},
   "source": [
    "#pip install xlrd is to read the moon excel file\n"
   ]
  },
  {
   "cell_type": "code",
   "execution_count": 16,
   "metadata": {},
   "outputs": [
    {
     "name": "stdout",
     "output_type": "stream",
     "text": [
      "<class 'pandas.core.frame.DataFrame'>\n",
      "RangeIndex: 8716 entries, 0 to 8715\n",
      "Data columns (total 82 columns):\n",
      " #   Column                                                                   Non-Null Count  Dtype  \n",
      "---  ------                                                                   --------------  -----  \n",
      " 0   1. Crater name                                                           8716 non-null   object \n",
      " 1   2. Diameter [km]                                                         8716 non-null   float64\n",
      " 2   3. Latitude [°]                                                          8716 non-null   float64\n",
      " 3   4. Longitude [°]                                                         8716 non-null   float64\n",
      " 4   5. East longitude [°]                                                    8716 non-null   float64\n",
      " 5   6. Radius [km]                                                           8716 non-null   float64\n",
      " 6   7. Radius [m]                                                            8716 non-null   float64\n",
      " 7   8. Apparent diameter [km]                                                8716 non-null   float64\n",
      " 8   9. Transient cavity diameter [km]                                        8716 non-null   float64\n",
      " 9   10. Transient cavity diameter [km]                                       8716 non-null   float64\n",
      " 10  11. Floor diameter [km]                                                  8716 non-null   float64\n",
      " 11  12. Measured rim to floor depth [km]                                     1810 non-null   float64\n",
      " 12  13. Rim to floor depth [km]                                              8716 non-null   float64\n",
      " 13  14. Apparent depth [km]                                                  8716 non-null   float64\n",
      " 14  15. Transient cavity depth [km]                                          8716 non-null   float64\n",
      " 15  16. Interior volume [km^3]                                               8716 non-null   float64\n",
      " 16  17. Rim height [km]                                                      8716 non-null   float64\n",
      " 17  18. Rim flank width [km]                                                 8716 non-null   float64\n",
      " 18  19. Measured height of central peak [km]                                 41 non-null     float64\n",
      " 19  20. Height of central peak [km]                                          8716 non-null   float64\n",
      " 20  21. Diameter of central peak [km]                                        8716 non-null   float64\n",
      " 21  22. Basal area of central peak [km^2]                                    8716 non-null   float64\n",
      " 22  23. Maximum diameter of ejecta blocks [km]                               8716 non-null   float64\n",
      " 23  24. Maximum diameter of ejecta blocks [km]                               8716 non-null   float64\n",
      " 24  25. Thickness of ejecta in the distance equal to one radius [m]          8716 non-null   float64\n",
      " 25  26. Thickness of ejecta in the distance equal to two radii [m]           8716 non-null   float64\n",
      " 26  27. Thickness of ejecta in the distance equal to three radii [m]         8716 non-null   float64\n",
      " 27  28. Thickness of ejecta in the distance equal to four radii [m]          8716 non-null   float64\n",
      " 28  29. Thickness of ejecta in the distance equal to five radii [m]          8716 non-null   float64\n",
      " 29  30. Thickness of ejecta in the distance of 10,000 m outside the rim [m]  8716 non-null   float64\n",
      " 30  31. Thickness of ejecta in the distance of 10,000 m outside the rim [m]  8716 non-null   float64\n",
      " 31  32. Thickness of ejecta in the distance of 10,000 m outside the rim [m]  8716 non-null   float64\n",
      " 32  33. Thickness of ejecta in the distance of 10,000 m outside the rim [m]  8716 non-null   float64\n",
      " 33  34. Radial distance of continuous ejecta [km]                            8716 non-null   float64\n",
      " 34  35. Radial distance of continuous ejecta [km]                            8716 non-null   float64\n",
      " 35  36. Radius of ejecta blanket thicker than 10 m [km]                      8716 non-null   float64\n",
      " 36  37. Radius of ejecta blanket thicker than 10 m [km] minimum              8716 non-null   float64\n",
      " 37  38. Radius of ejecta blanket thicker than 10 m [km] best estimate        8716 non-null   float64\n",
      " 38  39. Radius of ejecta blanket thicker than 10 m [km] maximum              8716 non-null   float64\n",
      " 39  40. Radius of radar-bright halo [km]                                     8716 non-null   float64\n",
      " 40  41. Measured radius of radar-bright halo [km]                            76 non-null     float64\n",
      " 41  42. Radius of radar-dark halo [km]                                       8716 non-null   float64\n",
      " 42  43. Measured radius of radar-dark halo [km]                              76 non-null     float64\n",
      " 43  44. Depth of excavation [km]                                             8716 non-null   float64\n",
      " 44  45. Depth of excavation [km]                                             8716 non-null   float64\n",
      " 45  46. Depth of melting [km]                                                8716 non-null   float64\n",
      " 46  47. Depth of melting [km]                                                8716 non-null   float64\n",
      " 47  48. Melt volume [km^3]                                                   8716 non-null   float64\n",
      " 48  49. Melt volume, 45° on basalt [km^3]                                    8716 non-null   float64\n",
      " 49  50. Melt volume, 45° on anorthosite [km^3]                               8716 non-null   float64\n",
      " 50  51. Age                                                                  1675 non-null   object \n",
      " 51  52. Age class                                                            1675 non-null   float64\n",
      " 52  53. Remarks                                                              716 non-null    object \n",
      " 53  54. Age - source                                                         1677 non-null   object \n",
      " 54  55. Age - other sources                                                  31 non-null     object \n",
      " 55  56. Basin age group                                                      41 non-null     float64\n",
      " 56  57. Citation for first mention, citation for nomenclature from           8683 non-null   object \n",
      " 57  58. Approval                                                             8620 non-null   object \n",
      " 58  59. Peak lithology                                                       55 non-null     object \n",
      " 59  60. Ol [vol.-%]                                                          55 non-null     float64\n",
      " 60  61. Opx [vol.-%]                                                         55 non-null     float64\n",
      " 61  62. Cpx [vol.-%]                                                         55 non-null     float64\n",
      " 62  63. Plg [vol.-%]                                                         55 non-null     float64\n",
      " 63  64. Mafics/Plg                                                           55 non-null     float64\n",
      " 64  65. Opx/Cpx                                                              54 non-null     float64\n",
      " 65  66. Plg [wt.-%]                                                          34 non-null     object \n",
      " 66  67. Ol [wt.-%]                                                           34 non-null     object \n",
      " 67  68. Opx [wt.-%]                                                          34 non-null     object \n",
      " 68  69. Cpx [wt.-%]                                                          34 non-null     object \n",
      " 69  70. FeO [wt.-%]                                                          34 non-null     object \n",
      " 70  71. Peak lithologies                                                     103 non-null    object \n",
      " 71  72. Setting                                                              103 non-null    object \n",
      " 72  73. Average CF [μm]                                                      135 non-null    float64\n",
      " 73  74. Average OMAT                                                         135 non-null    float64\n",
      " 74  75. Average FeO [wt.-%]                                                  135 non-null    float64\n",
      " 75  76. OMAT range                                                           61 non-null     object \n",
      " 76  77. Plg abundance class                                                  61 non-null     object \n",
      " 77  78. Province                                                             61 non-null     object \n",
      " 78  79. Peak degradation                                                     85 non-null     float64\n",
      " 79  80. PAN location                                                         224 non-null    object \n",
      " 80  81. Rays                                                                 190 non-null    object \n",
      " 81  1. Crater name .1                                                        8716 non-null   object \n",
      "dtypes: float64(61), object(21)\n",
      "memory usage: 5.5+ MB\n"
     ]
    }
   ],
   "source": [
    "moon = pd.read_excel(\"Lunar_Impact_Crater_Database_v08Sep2015.xls\", sheet_name=\"Database\").info()"
   ]
  },
  {
   "cell_type": "code",
   "execution_count": 2,
   "metadata": {},
   "outputs": [
    {
     "ename": "NameError",
     "evalue": "name 'nutrition' is not defined",
     "output_type": "error",
     "traceback": [
      "\u001b[1;31m---------------------------------------------------------------------------\u001b[0m",
      "\u001b[1;31mNameError\u001b[0m                                 Traceback (most recent call last)",
      "Cell \u001b[1;32mIn[2], line 1\u001b[0m\n\u001b[1;32m----> 1\u001b[0m nutrition\u001b[39m.\u001b[39mto_excel(\u001b[39m\"\u001b[39m\u001b[39mnutrition.xlsx\u001b[39m\u001b[39m\"\u001b[39m, sheet_name\u001b[39m=\u001b[39m\u001b[39m\"\u001b[39m\u001b[39mbook1\u001b[39m\u001b[39m\"\u001b[39m)\n",
      "\u001b[1;31mNameError\u001b[0m: name 'nutrition' is not defined"
     ]
    }
   ],
   "source": [
    "nutrition.to_excel(\"nutrition.xlsx\", sheet_name=\"book1\")"
   ]
  }
 ],
 "metadata": {
  "kernelspec": {
   "display_name": "Python 3",
   "language": "python",
   "name": "python3"
  },
  "language_info": {
   "codemirror_mode": {
    "name": "ipython",
    "version": 3
   },
   "file_extension": ".py",
   "mimetype": "text/x-python",
   "name": "python",
   "nbconvert_exporter": "python",
   "pygments_lexer": "ipython3",
   "version": "3.11.1"
  },
  "orig_nbformat": 4
 },
 "nbformat": 4,
 "nbformat_minor": 2
}
