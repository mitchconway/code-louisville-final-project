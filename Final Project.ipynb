{
 "cells": [
  {
   "cell_type": "code",
   "execution_count": 165,
   "metadata": {},
   "outputs": [],
   "source": [
    "import pandas as pd"
   ]
  },
  {
   "attachments": {},
   "cell_type": "markdown",
   "metadata": {},
   "source": [
    "#PANDAS"
   ]
  },
  {
   "cell_type": "code",
   "execution_count": 166,
   "metadata": {},
   "outputs": [],
   "source": [
    "import matplotlib.pyplot as plt"
   ]
  },
  {
   "attachments": {},
   "cell_type": "markdown",
   "metadata": {},
   "source": [
    "#matplotlib"
   ]
  },
  {
   "cell_type": "code",
   "execution_count": 167,
   "metadata": {},
   "outputs": [],
   "source": [
    "import numpy as np"
   ]
  },
  {
   "attachments": {},
   "cell_type": "markdown",
   "metadata": {},
   "source": [
    "#numpy"
   ]
  },
  {
   "attachments": {},
   "cell_type": "markdown",
   "metadata": {},
   "source": [
    "#Feature 1\n",
    "Write markdown cells in Jupyter explaining your thought process and code. If you make a few plots with matplotlib, explain what the reader is seeing and why you chose to plot things that way."
   ]
  },
  {
   "cell_type": "code",
   "execution_count": 168,
   "metadata": {},
   "outputs": [],
   "source": [
    "nut_cols_to_use = ['name', 'calories', 'total_fat', 'protein', 'carbohydrate']"
   ]
  },
  {
   "attachments": {},
   "cell_type": "markdown",
   "metadata": {},
   "source": [
    "#Created a list"
   ]
  },
  {
   "cell_type": "code",
   "execution_count": 169,
   "metadata": {},
   "outputs": [
    {
     "name": "stdout",
     "output_type": "stream",
     "text": [
      "<class 'pandas.core.frame.DataFrame'>\n",
      "RangeIndex: 8789 entries, 0 to 8788\n",
      "Data columns (total 5 columns):\n",
      " #   Column        Non-Null Count  Dtype \n",
      "---  ------        --------------  ----- \n",
      " 0   name          8789 non-null   object\n",
      " 1   calories      8789 non-null   int64 \n",
      " 2   total_fat     8789 non-null   object\n",
      " 3   protein       8789 non-null   object\n",
      " 4   carbohydrate  8789 non-null   object\n",
      "dtypes: int64(1), object(4)\n",
      "memory usage: 343.4+ KB\n"
     ]
    }
   ],
   "source": [
    "nutrition = pd.read_csv('nutrition.csv',\n",
    "                        usecols=nut_cols_to_use)\n",
    "                        \n",
    "nutrition.info()"
   ]
  },
  {
   "attachments": {},
   "cell_type": "markdown",
   "metadata": {},
   "source": [
    "# FEATURE 2\n",
    "Read in data from a local csv, excel file, json, or any other file type."
   ]
  },
  {
   "cell_type": "code",
   "execution_count": 170,
   "metadata": {},
   "outputs": [],
   "source": [
    "nutrition = nutrition.query('name.str.contains(\"McDONALD\")', engine='python')"
   ]
  },
  {
   "attachments": {},
   "cell_type": "markdown",
   "metadata": {},
   "source": [
    "#select only rows with mcdonalds"
   ]
  },
  {
   "cell_type": "code",
   "execution_count": 171,
   "metadata": {},
   "outputs": [],
   "source": [
    "mooncsv = pd.read_csv(\"mooncsv.csv\")"
   ]
  },
  {
   "attachments": {},
   "cell_type": "markdown",
   "metadata": {},
   "source": [
    "#loaded moon csv"
   ]
  },
  {
   "cell_type": "code",
   "execution_count": 172,
   "metadata": {},
   "outputs": [],
   "source": [
    "moon_ten = mooncsv.head(10)"
   ]
  },
  {
   "cell_type": "code",
   "execution_count": 173,
   "metadata": {},
   "outputs": [],
   "source": [
    "moon_ten.to_csv('moon_ten.csv')"
   ]
  },
  {
   "attachments": {},
   "cell_type": "markdown",
   "metadata": {},
   "source": [
    "# Feature 3\n",
    "Created a new data frame and csv from a previous one to remove values where they don’t belong in your dataset."
   ]
  },
  {
   "cell_type": "code",
   "execution_count": 177,
   "metadata": {},
   "outputs": [
    {
     "name": "stderr",
     "output_type": "stream",
     "text": [
      "C:\\Users\\Mitch\\AppData\\Local\\Temp\\ipykernel_391832\\974489610.py:1: SettingWithCopyWarning: \n",
      "A value is trying to be set on a copy of a slice from a DataFrame.\n",
      "Try using .loc[row_indexer,col_indexer] = value instead\n",
      "\n",
      "See the caveats in the documentation: https://pandas.pydata.org/pandas-docs/stable/user_guide/indexing.html#returning-a-view-versus-a-copy\n",
      "  moon_ten['key'] = 1\n"
     ]
    }
   ],
   "source": [
    "moon_ten['key'] = 1\n",
    "nutrition['key'] = 1"
   ]
  },
  {
   "attachments": {},
   "cell_type": "markdown",
   "metadata": {},
   "source": [
    "#Feature 4\n",
    "Many to many relationship\n",
    "Write custom functions to operate on your data. You may discover that you want tofind out something particular about data that just doesn’t have a built-in Pandas function that accomplishes your goal. Maybe you want your function to read in a DataFrame, search the columns for any mention of “Cars”, then return the lowest-priced car in the column along with the mileage. This category is very open to interpretation, so any function operating on your data will work."
   ]
  },
  {
   "cell_type": "code",
   "execution_count": 176,
   "metadata": {},
   "outputs": [],
   "source": [
    "tasty_crater = pd.merge(moon_ten,nutrition,on='key')"
   ]
  },
  {
   "attachments": {},
   "cell_type": "markdown",
   "metadata": {},
   "source": [
    "#drop key column"
   ]
  },
  {
   "cell_type": "code",
   "execution_count": 178,
   "metadata": {},
   "outputs": [],
   "source": [
    "tasty_crater = tasty_crater.drop(columns=['key', 'total_fat', 'protein', 'carbohydrate'])"
   ]
  },
  {
   "cell_type": "code",
   "execution_count": 179,
   "metadata": {},
   "outputs": [
    {
     "data": {
      "text/plain": [
       "<bound method DataFrame.info of     Crater name   Interior volume  \\\n",
       "0        Fersman         24594.05   \n",
       "1        Fersman         24594.05   \n",
       "2        Fersman         24594.05   \n",
       "3        Fersman         24594.05   \n",
       "4        Fersman         24594.05   \n",
       "..           ...              ...   \n",
       "635       Pavlov         22685.79   \n",
       "636       Pavlov         22685.79   \n",
       "637       Pavlov         22685.79   \n",
       "638       Pavlov         22685.79   \n",
       "639       Pavlov         22685.79   \n",
       "\n",
       "                                                  name  calories  \n",
       "0                               McDONALD'S, Side Salad        20  \n",
       "1                               McDONALD'S, Hash Brown       271  \n",
       "2                                McDONALD'S, Hamburger       264  \n",
       "3                                  McDONALD'S, BIG MAC       257  \n",
       "4                        McDONALD'S, Hot Mustard Sauce       190  \n",
       "..                                                 ...       ...  \n",
       "635  McDONALD'S, Bacon Ranch Salad with Grilled Chi...        81  \n",
       "636  McDONALD'S, with syrup and margarine, Deluxe B...       285  \n",
       "637  McDONALD'S, Premium Grilled Chicken Ranch BLT ...       204  \n",
       "638  McDONALD'S, Fruit 'n Yogurt Parfait (without g...        90  \n",
       "639  McDONALD'S, NEWMAN'S OWN Low Fat Balsamic Vina...        86  \n",
       "\n",
       "[640 rows x 4 columns]>"
      ]
     },
     "execution_count": 179,
     "metadata": {},
     "output_type": "execute_result"
    }
   ],
   "source": [
    "tasty_crater.info"
   ]
  },
  {
   "cell_type": "code",
   "execution_count": 180,
   "metadata": {},
   "outputs": [],
   "source": [
    "tasty_crater[\"Volume x Calories\"] = tasty_crater['Interior volume'] * tasty_crater['calories']"
   ]
  },
  {
   "attachments": {},
   "cell_type": "markdown",
   "metadata": {},
   "source": [
    "#Formula"
   ]
  },
  {
   "cell_type": "code",
   "execution_count": 181,
   "metadata": {},
   "outputs": [
    {
     "data": {
      "text/html": [
       "<div>\n",
       "<style scoped>\n",
       "    .dataframe tbody tr th:only-of-type {\n",
       "        vertical-align: middle;\n",
       "    }\n",
       "\n",
       "    .dataframe tbody tr th {\n",
       "        vertical-align: top;\n",
       "    }\n",
       "\n",
       "    .dataframe thead th {\n",
       "        text-align: right;\n",
       "    }\n",
       "</style>\n",
       "<table border=\"1\" class=\"dataframe\">\n",
       "  <thead>\n",
       "    <tr style=\"text-align: right;\">\n",
       "      <th></th>\n",
       "      <th>Crater name</th>\n",
       "      <th>Interior volume</th>\n",
       "      <th>calories</th>\n",
       "      <th>Volume x Calories</th>\n",
       "    </tr>\n",
       "  </thead>\n",
       "  <tbody>\n",
       "    <tr>\n",
       "      <th>0</th>\n",
       "      <td>Fersman</td>\n",
       "      <td>24594.05</td>\n",
       "      <td>20</td>\n",
       "      <td>491881.00</td>\n",
       "    </tr>\n",
       "    <tr>\n",
       "      <th>1</th>\n",
       "      <td>Fersman</td>\n",
       "      <td>24594.05</td>\n",
       "      <td>271</td>\n",
       "      <td>6664987.55</td>\n",
       "    </tr>\n",
       "    <tr>\n",
       "      <th>2</th>\n",
       "      <td>Fersman</td>\n",
       "      <td>24594.05</td>\n",
       "      <td>264</td>\n",
       "      <td>6492829.20</td>\n",
       "    </tr>\n",
       "    <tr>\n",
       "      <th>3</th>\n",
       "      <td>Fersman</td>\n",
       "      <td>24594.05</td>\n",
       "      <td>257</td>\n",
       "      <td>6320670.85</td>\n",
       "    </tr>\n",
       "    <tr>\n",
       "      <th>4</th>\n",
       "      <td>Fersman</td>\n",
       "      <td>24594.05</td>\n",
       "      <td>190</td>\n",
       "      <td>4672869.50</td>\n",
       "    </tr>\n",
       "    <tr>\n",
       "      <th>...</th>\n",
       "      <td>...</td>\n",
       "      <td>...</td>\n",
       "      <td>...</td>\n",
       "      <td>...</td>\n",
       "    </tr>\n",
       "    <tr>\n",
       "      <th>635</th>\n",
       "      <td>Pavlov</td>\n",
       "      <td>22685.79</td>\n",
       "      <td>81</td>\n",
       "      <td>1837548.99</td>\n",
       "    </tr>\n",
       "    <tr>\n",
       "      <th>636</th>\n",
       "      <td>Pavlov</td>\n",
       "      <td>22685.79</td>\n",
       "      <td>285</td>\n",
       "      <td>6465450.15</td>\n",
       "    </tr>\n",
       "    <tr>\n",
       "      <th>637</th>\n",
       "      <td>Pavlov</td>\n",
       "      <td>22685.79</td>\n",
       "      <td>204</td>\n",
       "      <td>4627901.16</td>\n",
       "    </tr>\n",
       "    <tr>\n",
       "      <th>638</th>\n",
       "      <td>Pavlov</td>\n",
       "      <td>22685.79</td>\n",
       "      <td>90</td>\n",
       "      <td>2041721.10</td>\n",
       "    </tr>\n",
       "    <tr>\n",
       "      <th>639</th>\n",
       "      <td>Pavlov</td>\n",
       "      <td>22685.79</td>\n",
       "      <td>86</td>\n",
       "      <td>1950977.94</td>\n",
       "    </tr>\n",
       "  </tbody>\n",
       "</table>\n",
       "<p>640 rows × 4 columns</p>\n",
       "</div>"
      ],
      "text/plain": [
       "    Crater name   Interior volume  calories  Volume x Calories\n",
       "0        Fersman         24594.05        20          491881.00\n",
       "1        Fersman         24594.05       271         6664987.55\n",
       "2        Fersman         24594.05       264         6492829.20\n",
       "3        Fersman         24594.05       257         6320670.85\n",
       "4        Fersman         24594.05       190         4672869.50\n",
       "..           ...              ...       ...                ...\n",
       "635       Pavlov         22685.79        81         1837548.99\n",
       "636       Pavlov         22685.79       285         6465450.15\n",
       "637       Pavlov         22685.79       204         4627901.16\n",
       "638       Pavlov         22685.79        90         2041721.10\n",
       "639       Pavlov         22685.79        86         1950977.94\n",
       "\n",
       "[640 rows x 4 columns]"
      ]
     },
     "execution_count": 181,
     "metadata": {},
     "output_type": "execute_result"
    }
   ],
   "source": [
    "tasty_crater[[\"Crater name \", \"Interior volume\", \"calories\", \"Volume x Calories\"]]"
   ]
  },
  {
   "cell_type": "code",
   "execution_count": 182,
   "metadata": {},
   "outputs": [
    {
     "data": {
      "text/html": [
       "<div>\n",
       "<style scoped>\n",
       "    .dataframe tbody tr th:only-of-type {\n",
       "        vertical-align: middle;\n",
       "    }\n",
       "\n",
       "    .dataframe tbody tr th {\n",
       "        vertical-align: top;\n",
       "    }\n",
       "\n",
       "    .dataframe thead th {\n",
       "        text-align: right;\n",
       "    }\n",
       "</style>\n",
       "<table border=\"1\" class=\"dataframe\">\n",
       "  <thead>\n",
       "    <tr style=\"text-align: right;\">\n",
       "      <th></th>\n",
       "      <th>Crater name</th>\n",
       "      <th>Interior volume</th>\n",
       "      <th>name</th>\n",
       "      <th>calories</th>\n",
       "      <th>Volume x Calories</th>\n",
       "    </tr>\n",
       "  </thead>\n",
       "  <tbody>\n",
       "    <tr>\n",
       "      <th>0</th>\n",
       "      <td>Babbage</td>\n",
       "      <td>23992.34</td>\n",
       "      <td>McDONALD'S, Peanuts (for Sundaes)</td>\n",
       "      <td>640</td>\n",
       "      <td>15355097.6</td>\n",
       "    </tr>\n",
       "    <tr>\n",
       "      <th>1</th>\n",
       "      <td>Blackett</td>\n",
       "      <td>23522.29</td>\n",
       "      <td>McDONALD'S, Peanuts (for Sundaes)</td>\n",
       "      <td>640</td>\n",
       "      <td>15054265.6</td>\n",
       "    </tr>\n",
       "    <tr>\n",
       "      <th>2</th>\n",
       "      <td>Fersman</td>\n",
       "      <td>24594.05</td>\n",
       "      <td>McDONALD'S, Peanuts (for Sundaes)</td>\n",
       "      <td>640</td>\n",
       "      <td>15740192.0</td>\n",
       "    </tr>\n",
       "    <tr>\n",
       "      <th>3</th>\n",
       "      <td>Hipparchus</td>\n",
       "      <td>23016.85</td>\n",
       "      <td>McDONALD'S, Peanuts (for Sundaes)</td>\n",
       "      <td>640</td>\n",
       "      <td>14730784.0</td>\n",
       "    </tr>\n",
       "    <tr>\n",
       "      <th>4</th>\n",
       "      <td>Hirayama</td>\n",
       "      <td>23484.91</td>\n",
       "      <td>McDONALD'S, Peanuts (for Sundaes)</td>\n",
       "      <td>640</td>\n",
       "      <td>15030342.4</td>\n",
       "    </tr>\n",
       "    <tr>\n",
       "      <th>5</th>\n",
       "      <td>Jules Verne</td>\n",
       "      <td>23608.38</td>\n",
       "      <td>McDONALD'S, Peanuts (for Sundaes)</td>\n",
       "      <td>640</td>\n",
       "      <td>15109363.2</td>\n",
       "    </tr>\n",
       "    <tr>\n",
       "      <th>6</th>\n",
       "      <td>Longomontanus</td>\n",
       "      <td>23593.40</td>\n",
       "      <td>McDONALD'S, Peanuts (for Sundaes)</td>\n",
       "      <td>640</td>\n",
       "      <td>15099776.0</td>\n",
       "    </tr>\n",
       "    <tr>\n",
       "      <th>7</th>\n",
       "      <td>Neper</td>\n",
       "      <td>23153.74</td>\n",
       "      <td>McDONALD'S, Peanuts (for Sundaes)</td>\n",
       "      <td>640</td>\n",
       "      <td>14818393.6</td>\n",
       "    </tr>\n",
       "    <tr>\n",
       "      <th>8</th>\n",
       "      <td>Pavlov</td>\n",
       "      <td>22685.79</td>\n",
       "      <td>McDONALD'S, Peanuts (for Sundaes)</td>\n",
       "      <td>640</td>\n",
       "      <td>14518905.6</td>\n",
       "    </tr>\n",
       "    <tr>\n",
       "      <th>9</th>\n",
       "      <td>Pythagoras</td>\n",
       "      <td>23239.07</td>\n",
       "      <td>McDONALD'S, Peanuts (for Sundaes)</td>\n",
       "      <td>640</td>\n",
       "      <td>14873004.8</td>\n",
       "    </tr>\n",
       "  </tbody>\n",
       "</table>\n",
       "</div>"
      ],
      "text/plain": [
       "    Crater name   Interior volume                               name  \\\n",
       "0        Babbage         23992.34  McDONALD'S, Peanuts (for Sundaes)   \n",
       "1       Blackett         23522.29  McDONALD'S, Peanuts (for Sundaes)   \n",
       "2        Fersman         24594.05  McDONALD'S, Peanuts (for Sundaes)   \n",
       "3     Hipparchus         23016.85  McDONALD'S, Peanuts (for Sundaes)   \n",
       "4       Hirayama         23484.91  McDONALD'S, Peanuts (for Sundaes)   \n",
       "5    Jules Verne         23608.38  McDONALD'S, Peanuts (for Sundaes)   \n",
       "6  Longomontanus         23593.40  McDONALD'S, Peanuts (for Sundaes)   \n",
       "7          Neper         23153.74  McDONALD'S, Peanuts (for Sundaes)   \n",
       "8         Pavlov         22685.79  McDONALD'S, Peanuts (for Sundaes)   \n",
       "9     Pythagoras         23239.07  McDONALD'S, Peanuts (for Sundaes)   \n",
       "\n",
       "   calories  Volume x Calories  \n",
       "0       640         15355097.6  \n",
       "1       640         15054265.6  \n",
       "2       640         15740192.0  \n",
       "3       640         14730784.0  \n",
       "4       640         15030342.4  \n",
       "5       640         15109363.2  \n",
       "6       640         15099776.0  \n",
       "7       640         14818393.6  \n",
       "8       640         14518905.6  \n",
       "9       640         14873004.8  "
      ]
     },
     "execution_count": 182,
     "metadata": {},
     "output_type": "execute_result"
    }
   ],
   "source": [
    "max_idx = tasty_crater.groupby([\"Crater name \", \"Interior volume\"])[\"Volume x Calories\"].idxmax()\n",
    "result = tasty_crater.loc[max_idx].reset_index(drop=True)\n",
    "result"
   ]
  },
  {
   "cell_type": "code",
   "execution_count": 183,
   "metadata": {},
   "outputs": [
    {
     "data": {
      "text/plain": [
       "<Axes: title={'center': 'Scatter Crater'}, xlabel='Crater name ', ylabel='Volume x Calories'>"
      ]
     },
     "execution_count": 183,
     "metadata": {},
     "output_type": "execute_result"
    },
    {
     "data": {
      "image/png": "[encoded data removed]",
      "text/plain": [
       "<Figure size 640x480 with 1 Axes>"
      ]
     },
     "metadata": {},
     "output_type": "display_data"
    }
   ],
   "source": [
    "tastiest.plot(kind = 'scatter', x= 'Crater name ', y = 'Volume x Calories',\n",
    "                    color = 'orange', title = 'Scatter Crater')"
   ]
  },
  {
   "cell_type": "code",
   "execution_count": null,
   "metadata": {},
   "outputs": [
    {
     "ename": "NameError",
     "evalue": "name 'bar_crater' is not defined",
     "output_type": "error",
     "traceback": [
      "\u001b[1;31m---------------------------------------------------------------------------\u001b[0m",
      "\u001b[1;31mNameError\u001b[0m                                 Traceback (most recent call last)",
      "Cell \u001b[1;32mIn[125], line 2\u001b[0m\n\u001b[0;32m      1\u001b[0m plt\u001b[39m.\u001b[39mfigure(figsize \u001b[39m=\u001b[39m (\u001b[39m12\u001b[39m, \u001b[39m6\u001b[39m))\n\u001b[1;32m----> 2\u001b[0m plt\u001b[39m.\u001b[39mbar(bar_crater[\u001b[39m'\u001b[39m\u001b[39mCrater name \u001b[39m\u001b[39m'\u001b[39m], bar_crater[\u001b[39m'\u001b[39m\u001b[39mVolume x Calories\u001b[39m\u001b[39m'\u001b[39m])\n\u001b[0;32m      3\u001b[0m plt\u001b[39m.\u001b[39mxlabel(\u001b[39m'\u001b[39m\u001b[39mCrater name \u001b[39m\u001b[39m'\u001b[39m)\n\u001b[0;32m      4\u001b[0m plt\u001b[39m.\u001b[39mylabel(\u001b[39m'\u001b[39m\u001b[39mVolume x Calories\u001b[39m\u001b[39m'\u001b[39m)\n",
      "\u001b[1;31mNameError\u001b[0m: name 'bar_crater' is not defined"
     ]
    },
    {
     "data": {
      "text/plain": [
       "<Figure size 1200x600 with 0 Axes>"
      ]
     },
     "metadata": {},
     "output_type": "display_data"
    }
   ],
   "source": [
    "plt.figure(figsize = (12, 6))\n",
    "plt.bar(bar_crater['Crater name '], bar_crater['Volume x Calories'])\n",
    "plt.xlabel('Crater name ')\n",
    "plt.ylabel('Volume x Calories')\n",
    "plt.show()"
   ]
  }
 ],
 "metadata": {
  "kernelspec": {
   "display_name": "Python 3",
   "language": "python",
   "name": "python3"
  },
  "language_info": {
   "codemirror_mode": {
    "name": "ipython",
    "version": 3
   },
   "file_extension": ".py",
   "mimetype": "text/x-python",
   "name": "python",
   "nbconvert_exporter": "python",
   "pygments_lexer": "ipython3",
   "version": "3.11.1"
  },
  "orig_nbformat": 4,
  "vscode": {
   "interpreter": {
    "hash": "7a9c1649248140e19e6e3ac6cf8a465eb852945b77e1393aadf7491c3db42732"
   }
  }
 },
 "nbformat": 4,
 "nbformat_minor": 2
}
