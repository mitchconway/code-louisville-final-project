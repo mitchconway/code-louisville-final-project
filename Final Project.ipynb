{
 "cells": [
  {
   "cell_type": "code",
   "execution_count": 3,
   "metadata": {},
   "outputs": [],
   "source": [
    "import pandas as pd"
   ]
  },
  {
   "cell_type": "code",
   "execution_count": 13,
   "metadata": {},
   "outputs": [],
   "source": [
    "nutrition = pd.read_csv('nutrition.csv',\n",
    "                        usecols=nut_cols_to_use,\n",
    "                        index_col='name')"
   ]
  },
  {
   "attachments": {},
   "cell_type": "markdown",
   "metadata": {},
   "source": [
    "# FEATURE - Indexed by name of food, I intend to only use only McDonald's items"
   ]
  },
  {
   "cell_type": "code",
   "execution_count": 5,
   "metadata": {},
   "outputs": [],
   "source": [
    "nut_cols_to_use = ['name', 'calories', 'total_fat', 'protein', 'carbohydrate']"
   ]
  },
  {
   "attachments": {},
   "cell_type": "markdown",
   "metadata": {},
   "source": [
    "# FEATURE - Created a list"
   ]
  },
  {
   "cell_type": "code",
   "execution_count": 14,
   "metadata": {},
   "outputs": [
    {
     "data": {
      "text/html": [
       "<div>\n",
       "<style scoped>\n",
       "    .dataframe tbody tr th:only-of-type {\n",
       "        vertical-align: middle;\n",
       "    }\n",
       "\n",
       "    .dataframe tbody tr th {\n",
       "        vertical-align: top;\n",
       "    }\n",
       "\n",
       "    .dataframe thead th {\n",
       "        text-align: right;\n",
       "    }\n",
       "</style>\n",
       "<table border=\"1\" class=\"dataframe\">\n",
       "  <thead>\n",
       "    <tr style=\"text-align: right;\">\n",
       "      <th></th>\n",
       "      <th>calories</th>\n",
       "      <th>total_fat</th>\n",
       "      <th>protein</th>\n",
       "      <th>carbohydrate</th>\n",
       "    </tr>\n",
       "    <tr>\n",
       "      <th>name</th>\n",
       "      <th></th>\n",
       "      <th></th>\n",
       "      <th></th>\n",
       "      <th></th>\n",
       "    </tr>\n",
       "  </thead>\n",
       "  <tbody>\n",
       "    <tr>\n",
       "      <th>Cornstarch</th>\n",
       "      <td>381</td>\n",
       "      <td>0.1g</td>\n",
       "      <td>0.26 g</td>\n",
       "      <td>91.27 g</td>\n",
       "    </tr>\n",
       "    <tr>\n",
       "      <th>Nuts, pecans</th>\n",
       "      <td>691</td>\n",
       "      <td>72g</td>\n",
       "      <td>9.17 g</td>\n",
       "      <td>13.86 g</td>\n",
       "    </tr>\n",
       "    <tr>\n",
       "      <th>Eggplant, raw</th>\n",
       "      <td>25</td>\n",
       "      <td>0.2g</td>\n",
       "      <td>0.98 g</td>\n",
       "      <td>5.88 g</td>\n",
       "    </tr>\n",
       "    <tr>\n",
       "      <th>Teff, uncooked</th>\n",
       "      <td>367</td>\n",
       "      <td>2.4g</td>\n",
       "      <td>13.30 g</td>\n",
       "      <td>73.13 g</td>\n",
       "    </tr>\n",
       "    <tr>\n",
       "      <th>Sherbet, orange</th>\n",
       "      <td>144</td>\n",
       "      <td>2g</td>\n",
       "      <td>1.10 g</td>\n",
       "      <td>30.40 g</td>\n",
       "    </tr>\n",
       "    <tr>\n",
       "      <th>...</th>\n",
       "      <td>...</td>\n",
       "      <td>...</td>\n",
       "      <td>...</td>\n",
       "      <td>...</td>\n",
       "    </tr>\n",
       "    <tr>\n",
       "      <th>Beef, raw, all grades, trimmed to 0\" fat, separable lean and fat, boneless, top round roast, round</th>\n",
       "      <td>125</td>\n",
       "      <td>3.5g</td>\n",
       "      <td>23.45 g</td>\n",
       "      <td>0.00 g</td>\n",
       "    </tr>\n",
       "    <tr>\n",
       "      <th>Lamb, cooked, separable lean only, composite of trimmed retail cuts, frozen, imported, New Zealand</th>\n",
       "      <td>206</td>\n",
       "      <td>8.9g</td>\n",
       "      <td>29.59 g</td>\n",
       "      <td>0.00 g</td>\n",
       "    </tr>\n",
       "    <tr>\n",
       "      <th>Lamb, raw, separable lean and fat, composite of trimmed retail cuts, frozen, imported, New Zealand</th>\n",
       "      <td>277</td>\n",
       "      <td>23g</td>\n",
       "      <td>16.74 g</td>\n",
       "      <td>0.00 g</td>\n",
       "    </tr>\n",
       "    <tr>\n",
       "      <th>Beef, raw, all grades, trimmed to 0\" fat, separable lean only, boneless, eye of round roast, round</th>\n",
       "      <td>121</td>\n",
       "      <td>3g</td>\n",
       "      <td>23.37 g</td>\n",
       "      <td>0.00 g</td>\n",
       "    </tr>\n",
       "    <tr>\n",
       "      <th>Beef, raw, all grades, trimmed to 0\" fat, separable lean only, boneless, eye of round steak, round</th>\n",
       "      <td>121</td>\n",
       "      <td>3g</td>\n",
       "      <td>23.37 g</td>\n",
       "      <td>0.00 g</td>\n",
       "    </tr>\n",
       "  </tbody>\n",
       "</table>\n",
       "<p>8789 rows × 4 columns</p>\n",
       "</div>"
      ],
      "text/plain": [
       "                                                    calories total_fat  \\\n",
       "name                                                                     \n",
       "Cornstarch                                               381      0.1g   \n",
       "Nuts, pecans                                             691       72g   \n",
       "Eggplant, raw                                             25      0.2g   \n",
       "Teff, uncooked                                           367      2.4g   \n",
       "Sherbet, orange                                          144        2g   \n",
       "...                                                      ...       ...   \n",
       "Beef, raw, all grades, trimmed to 0\" fat, separ...       125      3.5g   \n",
       "Lamb, cooked, separable lean only, composite of...       206      8.9g   \n",
       "Lamb, raw, separable lean and fat, composite of...       277       23g   \n",
       "Beef, raw, all grades, trimmed to 0\" fat, separ...       121        3g   \n",
       "Beef, raw, all grades, trimmed to 0\" fat, separ...       121        3g   \n",
       "\n",
       "                                                    protein carbohydrate  \n",
       "name                                                                      \n",
       "Cornstarch                                           0.26 g      91.27 g  \n",
       "Nuts, pecans                                         9.17 g      13.86 g  \n",
       "Eggplant, raw                                        0.98 g       5.88 g  \n",
       "Teff, uncooked                                      13.30 g      73.13 g  \n",
       "Sherbet, orange                                      1.10 g      30.40 g  \n",
       "...                                                     ...          ...  \n",
       "Beef, raw, all grades, trimmed to 0\" fat, separ...  23.45 g       0.00 g  \n",
       "Lamb, cooked, separable lean only, composite of...  29.59 g       0.00 g  \n",
       "Lamb, raw, separable lean and fat, composite of...  16.74 g       0.00 g  \n",
       "Beef, raw, all grades, trimmed to 0\" fat, separ...  23.37 g       0.00 g  \n",
       "Beef, raw, all grades, trimmed to 0\" fat, separ...  23.37 g       0.00 g  \n",
       "\n",
       "[8789 rows x 4 columns]"
      ]
     },
     "execution_count": 14,
     "metadata": {},
     "output_type": "execute_result"
    }
   ],
   "source": [
    "nutrition"
   ]
  },
  {
   "attachments": {},
   "cell_type": "markdown",
   "metadata": {},
   "source": [
    "#need to select only rows with mcdonalds"
   ]
  },
  {
   "cell_type": "code",
   "execution_count": 9,
   "metadata": {},
   "outputs": [
    {
     "name": "stdout",
     "output_type": "stream",
     "text": [
      "Collecting xlrd\n",
      "  Downloading xlrd-2.0.1-py2.py3-none-any.whl (96 kB)\n",
      "     ---------------------------------------- 96.5/96.5 kB 1.4 MB/s eta 0:00:00\n",
      "Installing collected packages: xlrd\n",
      "Successfully installed xlrd-2.0.1\n",
      "Note: you may need to restart the kernel to use updated packages.\n"
     ]
    },
    {
     "name": "stderr",
     "output_type": "stream",
     "text": [
      "\n",
      "[notice] A new release of pip available: 22.3.1 -> 23.0.1\n",
      "[notice] To update, run: python.exe -m pip install --upgrade pip\n"
     ]
    }
   ],
   "source": [
    "pip install xlrd"
   ]
  },
  {
   "attachments": {},
   "cell_type": "markdown",
   "metadata": {},
   "source": [
    "#pip install xlrd is to read the moon excel file\n"
   ]
  },
  {
   "cell_type": "code",
   "execution_count": 16,
   "metadata": {},
   "outputs": [
    {
     "name": "stdout",
     "output_type": "stream",
     "text": [
      "<class 'pandas.core.frame.DataFrame'>\n",
      "RangeIndex: 8716 entries, 0 to 8715\n",
      "Data columns (total 82 columns):\n",
      " #   Column                                                                   Non-Null Count  Dtype  \n",
      "---  ------                                                                   --------------  -----  \n",
      " 0   1. Crater name                                                           8716 non-null   object \n",
      " 1   2. Diameter [km]                                                         8716 non-null   float64\n",
      " 2   3. Latitude [°]                                                          8716 non-null   float64\n",
      " 3   4. Longitude [°]                                                         8716 non-null   float64\n",
      " 4   5. East longitude [°]                                                    8716 non-null   float64\n",
      " 5   6. Radius [km]                                                           8716 non-null   float64\n",
      " 6   7. Radius [m]                                                            8716 non-null   float64\n",
      " 7   8. Apparent diameter [km]                                                8716 non-null   float64\n",
      " 8   9. Transient cavity diameter [km]                                        8716 non-null   float64\n",
      " 9   10. Transient cavity diameter [km]                                       8716 non-null   float64\n",
      " 10  11. Floor diameter [km]                                                  8716 non-null   float64\n",
      " 11  12. Measured rim to floor depth [km]                                     1810 non-null   float64\n",
      " 12  13. Rim to floor depth [km]                                              8716 non-null   float64\n",
      " 13  14. Apparent depth [km]                                                  8716 non-null   float64\n",
      " 14  15. Transient cavity depth [km]                                          8716 non-null   float64\n",
      " 15  16. Interior volume [km^3]                                               8716 non-null   float64\n",
      " 16  17. Rim height [km]                                                      8716 non-null   float64\n",
      " 17  18. Rim flank width [km]                                                 8716 non-null   float64\n",
      " 18  19. Measured height of central peak [km]                                 41 non-null     float64\n",
      " 19  20. Height of central peak [km]                                          8716 non-null   float64\n",
      " 20  21. Diameter of central peak [km]                                        8716 non-null   float64\n",
      " 21  22. Basal area of central peak [km^2]                                    8716 non-null   float64\n",
      " 22  23. Maximum diameter of ejecta blocks [km]                               8716 non-null   float64\n",
      " 23  24. Maximum diameter of ejecta blocks [km]                               8716 non-null   float64\n",
      " 24  25. Thickness of ejecta in the distance equal to one radius [m]          8716 non-null   float64\n",
      " 25  26. Thickness of ejecta in the distance equal to two radii [m]           8716 non-null   float64\n",
      " 26  27. Thickness of ejecta in the distance equal to three radii [m]         8716 non-null   float64\n",
      " 27  28. Thickness of ejecta in the distance equal to four radii [m]          8716 non-null   float64\n",
      " 28  29. Thickness of ejecta in the distance equal to five radii [m]          8716 non-null   float64\n",
      " 29  30. Thickness of ejecta in the distance of 10,000 m outside the rim [m]  8716 non-null   float64\n",
      " 30  31. Thickness of ejecta in the distance of 10,000 m outside the rim [m]  8716 non-null   float64\n",
      " 31  32. Thickness of ejecta in the distance of 10,000 m outside the rim [m]  8716 non-null   float64\n",
      " 32  33. Thickness of ejecta in the distance of 10,000 m outside the rim [m]  8716 non-null   float64\n",
      " 33  34. Radial distance of continuous ejecta [km]                            8716 non-null   float64\n",
      " 34  35. Radial distance of continuous ejecta [km]                            8716 non-null   float64\n",
      " 35  36. Radius of ejecta blanket thicker than 10 m [km]                      8716 non-null   float64\n",
      " 36  37. Radius of ejecta blanket thicker than 10 m [km] minimum              8716 non-null   float64\n",
      " 37  38. Radius of ejecta blanket thicker than 10 m [km] best estimate        8716 non-null   float64\n",
      " 38  39. Radius of ejecta blanket thicker than 10 m [km] maximum              8716 non-null   float64\n",
      " 39  40. Radius of radar-bright halo [km]                                     8716 non-null   float64\n",
      " 40  41. Measured radius of radar-bright halo [km]                            76 non-null     float64\n",
      " 41  42. Radius of radar-dark halo [km]                                       8716 non-null   float64\n",
      " 42  43. Measured radius of radar-dark halo [km]                              76 non-null     float64\n",
      " 43  44. Depth of excavation [km]                                             8716 non-null   float64\n",
      " 44  45. Depth of excavation [km]                                             8716 non-null   float64\n",
      " 45  46. Depth of melting [km]                                                8716 non-null   float64\n",
      " 46  47. Depth of melting [km]                                                8716 non-null   float64\n",
      " 47  48. Melt volume [km^3]                                                   8716 non-null   float64\n",
      " 48  49. Melt volume, 45° on basalt [km^3]                                    8716 non-null   float64\n",
      " 49  50. Melt volume, 45° on anorthosite [km^3]                               8716 non-null   float64\n",
      " 50  51. Age                                                                  1675 non-null   object \n",
      " 51  52. Age class                                                            1675 non-null   float64\n",
      " 52  53. Remarks                                                              716 non-null    object \n",
      " 53  54. Age - source                                                         1677 non-null   object \n",
      " 54  55. Age - other sources                                                  31 non-null     object \n",
      " 55  56. Basin age group                                                      41 non-null     float64\n",
      " 56  57. Citation for first mention, citation for nomenclature from           8683 non-null   object \n",
      " 57  58. Approval                                                             8620 non-null   object \n",
      " 58  59. Peak lithology                                                       55 non-null     object \n",
      " 59  60. Ol [vol.-%]                                                          55 non-null     float64\n",
      " 60  61. Opx [vol.-%]                                                         55 non-null     float64\n",
      " 61  62. Cpx [vol.-%]                                                         55 non-null     float64\n",
      " 62  63. Plg [vol.-%]                                                         55 non-null     float64\n",
      " 63  64. Mafics/Plg                                                           55 non-null     float64\n",
      " 64  65. Opx/Cpx                                                              54 non-null     float64\n",
      " 65  66. Plg [wt.-%]                                                          34 non-null     object \n",
      " 66  67. Ol [wt.-%]                                                           34 non-null     object \n",
      " 67  68. Opx [wt.-%]                                                          34 non-null     object \n",
      " 68  69. Cpx [wt.-%]                                                          34 non-null     object \n",
      " 69  70. FeO [wt.-%]                                                          34 non-null     object \n",
      " 70  71. Peak lithologies                                                     103 non-null    object \n",
      " 71  72. Setting                                                              103 non-null    object \n",
      " 72  73. Average CF [μm]                                                      135 non-null    float64\n",
      " 73  74. Average OMAT                                                         135 non-null    float64\n",
      " 74  75. Average FeO [wt.-%]                                                  135 non-null    float64\n",
      " 75  76. OMAT range                                                           61 non-null     object \n",
      " 76  77. Plg abundance class                                                  61 non-null     object \n",
      " 77  78. Province                                                             61 non-null     object \n",
      " 78  79. Peak degradation                                                     85 non-null     float64\n",
      " 79  80. PAN location                                                         224 non-null    object \n",
      " 80  81. Rays                                                                 190 non-null    object \n",
      " 81  1. Crater name .1                                                        8716 non-null   object \n",
      "dtypes: float64(61), object(21)\n",
      "memory usage: 5.5+ MB\n"
     ]
    }
   ],
   "source": [
    "moon = pd.read_excel(\"Lunar_Impact_Crater_Database_v08Sep2015.xls\", sheet_name=\"Database\").info()"
   ]
  }
 ],
 "metadata": {
  "kernelspec": {
   "display_name": "Python 3",
   "language": "python",
   "name": "python3"
  },
  "language_info": {
   "codemirror_mode": {
    "name": "ipython",
    "version": 3
   },
   "file_extension": ".py",
   "mimetype": "text/x-python",
   "name": "python",
   "nbconvert_exporter": "python",
   "pygments_lexer": "ipython3",
   "version": "3.11.1"
  },
  "orig_nbformat": 4
 },
 "nbformat": 4,
 "nbformat_minor": 2
}
