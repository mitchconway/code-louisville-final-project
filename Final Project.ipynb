{
 "cells": [
  {
   "cell_type": "code",
   "execution_count": 1,
   "metadata": {},
   "outputs": [],
   "source": [
    "import pandas as pd"
   ]
  },
  {
   "cell_type": "code",
   "execution_count": 2,
   "metadata": {},
   "outputs": [],
   "source": [
    "nut_cols_to_use = ['name', 'calories', 'total_fat', 'protein', 'carbohydrate']"
   ]
  },
  {
   "attachments": {},
   "cell_type": "markdown",
   "metadata": {},
   "source": [
    "# FEATURE - Created a list"
   ]
  },
  {
   "cell_type": "code",
   "execution_count": 3,
   "metadata": {},
   "outputs": [
    {
     "name": "stdout",
     "output_type": "stream",
     "text": [
      "<class 'pandas.core.frame.DataFrame'>\n",
      "RangeIndex: 8789 entries, 0 to 8788\n",
      "Data columns (total 5 columns):\n",
      " #   Column        Non-Null Count  Dtype \n",
      "---  ------        --------------  ----- \n",
      " 0   name          8789 non-null   object\n",
      " 1   calories      8789 non-null   int64 \n",
      " 2   total_fat     8789 non-null   object\n",
      " 3   protein       8789 non-null   object\n",
      " 4   carbohydrate  8789 non-null   object\n",
      "dtypes: int64(1), object(4)\n",
      "memory usage: 343.4+ KB\n"
     ]
    }
   ],
   "source": [
    "nutrition = pd.read_csv('nutrition.csv',\n",
    "                        usecols=nut_cols_to_use)\n",
    "                        \n",
    "nutrition.info()"
   ]
  },
  {
   "attachments": {},
   "cell_type": "markdown",
   "metadata": {},
   "source": [
    "# FEATURE - Indexed by name of food, I intend to only use only McDonald's items"
   ]
  },
  {
   "cell_type": "code",
   "execution_count": 4,
   "metadata": {},
   "outputs": [],
   "source": [
    "nutrition = nutrition.query('name.str.contains(\"McDONALD\")', engine='python')\n",
    "cals = (nutrition.calories)"
   ]
  },
  {
   "attachments": {},
   "cell_type": "markdown",
   "metadata": {},
   "source": [
    "#select only rows with mcdonalds"
   ]
  },
  {
   "cell_type": "code",
   "execution_count": 5,
   "metadata": {},
   "outputs": [],
   "source": [
    "mooncsv = pd.read_csv(\"mooncsv.csv\")"
   ]
  },
  {
   "attachments": {},
   "cell_type": "markdown",
   "metadata": {},
   "source": [
    "#loaded moon csv"
   ]
  },
  {
   "cell_type": "code",
   "execution_count": 6,
   "metadata": {},
   "outputs": [],
   "source": [
    "mooncsv = mooncsv[~mooncsv['Interior volume'].isin([0.00])]"
   ]
  },
  {
   "attachments": {},
   "cell_type": "markdown",
   "metadata": {},
   "source": [
    "#deleted any value in the mooncsv data frame with a value of 0.00"
   ]
  },
  {
   "cell_type": "code",
   "execution_count": 7,
   "metadata": {},
   "outputs": [
    {
     "data": {
      "text/plain": [
       "31       20\n",
       "34      271\n",
       "83      264\n",
       "240     257\n",
       "759     190\n",
       "       ... \n",
       "4587     81\n",
       "5295    285\n",
       "5333    204\n",
       "5423     90\n",
       "5435     86\n",
       "Name: calories, Length: 64, dtype: int64"
      ]
     },
     "execution_count": 7,
     "metadata": {},
     "output_type": "execute_result"
    }
   ],
   "source": [
    "pd.to_numeric(nutrition['calories'])"
   ]
  },
  {
   "cell_type": "code",
   "execution_count": 8,
   "metadata": {},
   "outputs": [
    {
     "data": {
      "text/html": [
       "<div>\n",
       "<style scoped>\n",
       "    .dataframe tbody tr th:only-of-type {\n",
       "        vertical-align: middle;\n",
       "    }\n",
       "\n",
       "    .dataframe tbody tr th {\n",
       "        vertical-align: top;\n",
       "    }\n",
       "\n",
       "    .dataframe thead th {\n",
       "        text-align: right;\n",
       "    }\n",
       "</style>\n",
       "<table border=\"1\" class=\"dataframe\">\n",
       "  <thead>\n",
       "    <tr style=\"text-align: right;\">\n",
       "      <th></th>\n",
       "      <th>Crater name</th>\n",
       "      <th>Interior volume</th>\n",
       "    </tr>\n",
       "  </thead>\n",
       "  <tbody>\n",
       "    <tr>\n",
       "      <th>8342</th>\n",
       "      <td>Victory</td>\n",
       "      <td>0.01</td>\n",
       "    </tr>\n",
       "    <tr>\n",
       "      <th>5040</th>\n",
       "      <td>Manuel</td>\n",
       "      <td>0.01</td>\n",
       "    </tr>\n",
       "    <tr>\n",
       "      <th>5141</th>\n",
       "      <td>Mary</td>\n",
       "      <td>0.01</td>\n",
       "    </tr>\n",
       "    <tr>\n",
       "      <th>7970</th>\n",
       "      <td>Trident</td>\n",
       "      <td>0.01</td>\n",
       "    </tr>\n",
       "    <tr>\n",
       "      <th>807</th>\n",
       "      <td>Bessel F</td>\n",
       "      <td>0.01</td>\n",
       "    </tr>\n",
       "    <tr>\n",
       "      <th>...</th>\n",
       "      <td>...</td>\n",
       "      <td>...</td>\n",
       "    </tr>\n",
       "    <tr>\n",
       "      <th>895</th>\n",
       "      <td>Blackett</td>\n",
       "      <td>23522.29</td>\n",
       "    </tr>\n",
       "    <tr>\n",
       "      <th>4787</th>\n",
       "      <td>Longomontanus</td>\n",
       "      <td>23593.40</td>\n",
       "    </tr>\n",
       "    <tr>\n",
       "      <th>3956</th>\n",
       "      <td>Jules Verne</td>\n",
       "      <td>23608.38</td>\n",
       "    </tr>\n",
       "    <tr>\n",
       "      <th>516</th>\n",
       "      <td>Babbage</td>\n",
       "      <td>23992.34</td>\n",
       "    </tr>\n",
       "    <tr>\n",
       "      <th>2527</th>\n",
       "      <td>Fersman</td>\n",
       "      <td>24594.05</td>\n",
       "    </tr>\n",
       "  </tbody>\n",
       "</table>\n",
       "<p>7368 rows × 2 columns</p>\n",
       "</div>"
      ],
      "text/plain": [
       "       Crater name   Interior volume\n",
       "8342        Victory             0.01\n",
       "5040         Manuel             0.01\n",
       "5141           Mary             0.01\n",
       "7970        Trident             0.01\n",
       "807        Bessel F             0.01\n",
       "...             ...              ...\n",
       "895        Blackett         23522.29\n",
       "4787  Longomontanus         23593.40\n",
       "3956    Jules Verne         23608.38\n",
       "516         Babbage         23992.34\n",
       "2527        Fersman         24594.05\n",
       "\n",
       "[7368 rows x 2 columns]"
      ]
     },
     "execution_count": 8,
     "metadata": {},
     "output_type": "execute_result"
    }
   ],
   "source": [
    "mooncsv.sort_values('Interior volume')"
   ]
  },
  {
   "attachments": {},
   "cell_type": "markdown",
   "metadata": {},
   "source": [
    "#create a 3rd data frame/spreadsheet with the information\n",
    "#create a graph of some sort\n",
    "#Only list crater name once for each crater"
   ]
  },
  {
   "cell_type": "code",
   "execution_count": 9,
   "metadata": {},
   "outputs": [],
   "source": [
    "mooncsv['key'] = 1\n",
    "nutrition['key'] = 1"
   ]
  },
  {
   "attachments": {},
   "cell_type": "markdown",
   "metadata": {},
   "source": [
    "#Many to many relationship"
   ]
  },
  {
   "cell_type": "code",
   "execution_count": 10,
   "metadata": {},
   "outputs": [],
   "source": [
    "tasty_crater = pd.merge(mooncsv,nutrition,on='key')"
   ]
  },
  {
   "attachments": {},
   "cell_type": "markdown",
   "metadata": {},
   "source": [
    "#drop key column"
   ]
  },
  {
   "cell_type": "code",
   "execution_count": 12,
   "metadata": {},
   "outputs": [],
   "source": [
    "tasty_crater[\"Volume x Calories\"] = tasty_crater['Interior volume'] * tasty_crater['calories']"
   ]
  },
  {
   "attachments": {},
   "cell_type": "markdown",
   "metadata": {},
   "source": [
    "#FEATURE Formula"
   ]
  },
  {
   "cell_type": "code",
   "execution_count": 13,
   "metadata": {},
   "outputs": [
    {
     "data": {
      "text/html": [
       "<div>\n",
       "<style scoped>\n",
       "    .dataframe tbody tr th:only-of-type {\n",
       "        vertical-align: middle;\n",
       "    }\n",
       "\n",
       "    .dataframe tbody tr th {\n",
       "        vertical-align: top;\n",
       "    }\n",
       "\n",
       "    .dataframe thead th {\n",
       "        text-align: right;\n",
       "    }\n",
       "</style>\n",
       "<table border=\"1\" class=\"dataframe\">\n",
       "  <thead>\n",
       "    <tr style=\"text-align: right;\">\n",
       "      <th></th>\n",
       "      <th>Crater name</th>\n",
       "      <th>Interior volume</th>\n",
       "      <th>calories</th>\n",
       "      <th>Volume x Calories</th>\n",
       "    </tr>\n",
       "  </thead>\n",
       "  <tbody>\n",
       "    <tr>\n",
       "      <th>0</th>\n",
       "      <td>Abbe</td>\n",
       "      <td>3536.22</td>\n",
       "      <td>20</td>\n",
       "      <td>70724.40</td>\n",
       "    </tr>\n",
       "    <tr>\n",
       "      <th>1</th>\n",
       "      <td>Abbe</td>\n",
       "      <td>3536.22</td>\n",
       "      <td>271</td>\n",
       "      <td>958315.62</td>\n",
       "    </tr>\n",
       "    <tr>\n",
       "      <th>2</th>\n",
       "      <td>Abbe</td>\n",
       "      <td>3536.22</td>\n",
       "      <td>264</td>\n",
       "      <td>933562.08</td>\n",
       "    </tr>\n",
       "    <tr>\n",
       "      <th>3</th>\n",
       "      <td>Abbe</td>\n",
       "      <td>3536.22</td>\n",
       "      <td>257</td>\n",
       "      <td>908808.54</td>\n",
       "    </tr>\n",
       "    <tr>\n",
       "      <th>4</th>\n",
       "      <td>Abbe</td>\n",
       "      <td>3536.22</td>\n",
       "      <td>190</td>\n",
       "      <td>671881.80</td>\n",
       "    </tr>\n",
       "    <tr>\n",
       "      <th>...</th>\n",
       "      <td>...</td>\n",
       "      <td>...</td>\n",
       "      <td>...</td>\n",
       "      <td>...</td>\n",
       "    </tr>\n",
       "    <tr>\n",
       "      <th>471547</th>\n",
       "      <td>Zwicky S</td>\n",
       "      <td>1620.56</td>\n",
       "      <td>81</td>\n",
       "      <td>131265.36</td>\n",
       "    </tr>\n",
       "    <tr>\n",
       "      <th>471548</th>\n",
       "      <td>Zwicky S</td>\n",
       "      <td>1620.56</td>\n",
       "      <td>285</td>\n",
       "      <td>461859.60</td>\n",
       "    </tr>\n",
       "    <tr>\n",
       "      <th>471549</th>\n",
       "      <td>Zwicky S</td>\n",
       "      <td>1620.56</td>\n",
       "      <td>204</td>\n",
       "      <td>330594.24</td>\n",
       "    </tr>\n",
       "    <tr>\n",
       "      <th>471550</th>\n",
       "      <td>Zwicky S</td>\n",
       "      <td>1620.56</td>\n",
       "      <td>90</td>\n",
       "      <td>145850.40</td>\n",
       "    </tr>\n",
       "    <tr>\n",
       "      <th>471551</th>\n",
       "      <td>Zwicky S</td>\n",
       "      <td>1620.56</td>\n",
       "      <td>86</td>\n",
       "      <td>139368.16</td>\n",
       "    </tr>\n",
       "  </tbody>\n",
       "</table>\n",
       "<p>471552 rows × 4 columns</p>\n",
       "</div>"
      ],
      "text/plain": [
       "       Crater name   Interior volume  calories  Volume x Calories\n",
       "0              Abbe          3536.22        20           70724.40\n",
       "1              Abbe          3536.22       271          958315.62\n",
       "2              Abbe          3536.22       264          933562.08\n",
       "3              Abbe          3536.22       257          908808.54\n",
       "4              Abbe          3536.22       190          671881.80\n",
       "...             ...              ...       ...                ...\n",
       "471547     Zwicky S          1620.56        81          131265.36\n",
       "471548     Zwicky S          1620.56       285          461859.60\n",
       "471549     Zwicky S          1620.56       204          330594.24\n",
       "471550     Zwicky S          1620.56        90          145850.40\n",
       "471551     Zwicky S          1620.56        86          139368.16\n",
       "\n",
       "[471552 rows x 4 columns]"
      ]
     },
     "execution_count": 13,
     "metadata": {},
     "output_type": "execute_result"
    }
   ],
   "source": [
    "tasty_crater[[\"Crater name \", \"Interior volume\", \"calories\", \"Volume x Calories\"]]"
   ]
  }
 ],
 "metadata": {
  "kernelspec": {
   "display_name": "Python 3",
   "language": "python",
   "name": "python3"
  },
  "language_info": {
   "codemirror_mode": {
    "name": "ipython",
    "version": 3
   },
   "file_extension": ".py",
   "mimetype": "text/x-python",
   "name": "python",
   "nbconvert_exporter": "python",
   "pygments_lexer": "ipython3",
   "version": "3.11.1"
  },
  "orig_nbformat": 4,
  "vscode": {
   "interpreter": {
    "hash": "7a9c1649248140e19e6e3ac6cf8a465eb852945b77e1393aadf7491c3db42732"
   }
  }
 },
 "nbformat": 4,
 "nbformat_minor": 2
}
